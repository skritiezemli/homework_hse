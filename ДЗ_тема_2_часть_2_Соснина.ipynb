{
 "cells": [
  {
   "cell_type": "markdown",
   "id": "d6393f9b",
   "metadata": {},
   "source": [
    "# ДЗ Тема 2, часть 2"
   ]
  },
  {
   "cell_type": "markdown",
   "id": "bf564445",
   "metadata": {},
   "source": [
    "## Задание 1"
   ]
  },
  {
   "cell_type": "code",
   "execution_count": 2,
   "id": "d928be87",
   "metadata": {},
   "outputs": [
    {
     "name": "stdout",
     "output_type": "stream",
     "text": [
      "{98, 35, 15, 213, 54, 119}\n"
     ]
    }
   ],
   "source": [
    "ids = {\n",
    "    'user1': [213, 213, 213, 15, 213],\n",
    "    'user2': [54, 54, 119, 119],\n",
    "    'user3': [213, 98, 98, 35]\n",
    "}\n",
    "\n",
    "new_ids = set()\n",
    "for i in ids.values():\n",
    "    for k in i:\n",
    "        new_ids.add(k)        \n",
    "print(new_ids)\n",
    "        "
   ]
  },
  {
   "cell_type": "markdown",
   "id": "9be300d9",
   "metadata": {},
   "source": [
    "## Задание 2"
   ]
  },
  {
   "cell_type": "code",
   "execution_count": 3,
   "id": "4e9e82f7",
   "metadata": {},
   "outputs": [
    {
     "name": "stdout",
     "output_type": "stream",
     "text": [
      "Поисковых запросов, содержащих 2 слов(а): 42.86 %\n",
      "Поисковых запросов, содержащих 3 слов(а): 57.14 %\n"
     ]
    }
   ],
   "source": [
    "queries = [\n",
    "    'смотреть сриалы онлайн',\n",
    "    'новости спорта',\n",
    "    'афиша кино',\n",
    "    'курс доллара',\n",
    "    'сериалы этим летом',\n",
    "    'курс по питону',\n",
    "    'сериалы про спорт'\n",
    "]\n",
    "\n",
    "two_words = 0\n",
    "three_words = 0\n",
    "\n",
    "for i in queries:\n",
    "    if i.count(' ') == 1:\n",
    "        two_words = two_words + 1\n",
    "    elif i.count(' ') == 2:\n",
    "        three_words = three_words + 1\n",
    "    else:\n",
    "        continue\n",
    "\n",
    "if two_words > 0:\n",
    "    value_two = (two_words/len(queries))*100\n",
    "    print(\"Поисковых запросов, содержащих 2 слов(а):\", round(value_two, 2),\"%\")\n",
    "if three_words > 0:\n",
    "    value_three = (three_words/len(queries))*100\n",
    "    print(\"Поисковых запросов, содержащих 3 слов(а):\", round(value_three, 2),\"%\")\n",
    "else:\n",
    "    print(\"Предложения не состоят из 2-х или 3-х слов\")"
   ]
  },
  {
   "cell_type": "code",
   "execution_count": null,
   "id": "129c857d",
   "metadata": {},
   "outputs": [],
   "source": []
  }
 ],
 "metadata": {
  "kernelspec": {
   "display_name": "Python 3 (ipykernel)",
   "language": "python",
   "name": "python3"
  },
  "language_info": {
   "codemirror_mode": {
    "name": "ipython",
    "version": 3
   },
   "file_extension": ".py",
   "mimetype": "text/x-python",
   "name": "python",
   "nbconvert_exporter": "python",
   "pygments_lexer": "ipython3",
   "version": "3.12.3"
  }
 },
 "nbformat": 4,
 "nbformat_minor": 5
}
