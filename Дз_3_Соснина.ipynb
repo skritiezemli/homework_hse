{
 "cells": [
  {
   "cell_type": "markdown",
   "id": "586bc304",
   "metadata": {},
   "source": [
    "# ДЗ 3"
   ]
  },
  {
   "cell_type": "markdown",
   "id": "08e5ad8e",
   "metadata": {},
   "source": [
    "## Задание 1"
   ]
  },
  {
   "cell_type": "code",
   "execution_count": 4,
   "id": "4cab93ad",
   "metadata": {},
   "outputs": [
    {
     "name": "stdout",
     "output_type": "stream",
     "text": [
      "Введите первое целове число: 5\n",
      "Введите второе целове число: 1\n",
      "Сумма чисел =  15\n"
     ]
    }
   ],
   "source": [
    "def sum_distance(first, last):\n",
    "    \n",
    "    \"\"\"\n",
    "    Сумма чисел от first до last\n",
    "    \n",
    "    \"\"\"\n",
    "    \n",
    "    if first > last:\n",
    "        first, last = last, first\n",
    "    sum_all = 0\n",
    "    for i in range(first, last + 1):\n",
    "        sum_all += i \n",
    "    return sum_all\n",
    "\n",
    "number1 = int(input(\"Введите первое целове число: \"))\n",
    "number2 = int(input(\"Введите второе целове число: \"))\n",
    "print(\"Сумма чисел = \", sum_distance(number1, number2))"
   ]
  },
  {
   "cell_type": "markdown",
   "id": "9fb08d8e",
   "metadata": {},
   "source": [
    "## Задание 2"
   ]
  },
  {
   "cell_type": "code",
   "execution_count": 11,
   "id": "9b7f6a3b",
   "metadata": {},
   "outputs": [
    {
     "name": "stdout",
     "output_type": "stream",
     "text": [
      "Ввудите строку: это большое предложение\n",
      "Введите срез строки слева: 6\n",
      "Введите сколько раз будет повторяться строка: 3\n",
      "Полученная строка:  льшое предложениельшое предложениельшое предложение\n"
     ]
    },
    {
     "data": {
      "text/plain": [
       "'это большое предложение'"
      ]
     },
     "execution_count": 11,
     "metadata": {},
     "output_type": "execute_result"
    }
   ],
   "source": [
    "def trim_and_repeat(line, offset = 0, repetitions = 1):\n",
    "    \n",
    "    \"\"\"\n",
    "    Обрезает строку и повторяет\n",
    "    \n",
    "    \"\"\"\n",
    "    \n",
    "    line_trim = line[offset:]\n",
    "    repeated_line = line_trim * repetitions\n",
    "    return repeated_line\n",
    "\n",
    "line = input(\"Ввудите строку: \")\n",
    "trim = int(input(\"Введите срез строки слева: \"))\n",
    "repeat = int(input(\"Введите сколько раз будет повторяться строка: \"))\n",
    "\n",
    "print(\"Полученная строка: \", trim_and_repeat(line, trim, repeat))\n",
    "\n",
    "# проверяет значения по умолчанию\n",
    "trim_and_repeat(line)"
   ]
  }
 ],
 "metadata": {
  "kernelspec": {
   "display_name": "Python 3 (ipykernel)",
   "language": "python",
   "name": "python3"
  },
  "language_info": {
   "codemirror_mode": {
    "name": "ipython",
    "version": 3
   },
   "file_extension": ".py",
   "mimetype": "text/x-python",
   "name": "python",
   "nbconvert_exporter": "python",
   "pygments_lexer": "ipython3",
   "version": "3.12.3"
  }
 },
 "nbformat": 4,
 "nbformat_minor": 5
}
